{
 "cells": [
  {
   "cell_type": "code",
   "execution_count": 1,
   "metadata": {},
   "outputs": [
    {
     "name": "stdin",
     "output_type": "stream",
     "text": [
      "Enter your name:  Tyler\n",
      "Enter some other input:  chess is hard\n"
     ]
    },
    {
     "name": "stdout",
     "output_type": "stream",
     "text": [
      "Hello, Tyler! You provided: chess is hard and did Something with it!\n",
      "The length of your 'other_input' is 13 characters.\n"
     ]
    },
    {
     "name": "stdin",
     "output_type": "stream",
     "text": [
      "Enter an additional input:  touchdown\n"
     ]
    },
    {
     "name": "stdout",
     "output_type": "stream",
     "text": [
      "You added: touchdown to the Something™!\n"
     ]
    }
   ],
   "source": [
    "# Something Program\n",
    "name = input(\"Enter your name: \")\n",
    "other_input = input(\"Enter some other input: \")\n",
    "result = f\"Hello, {name}! You provided: {other_input} and did Something with it!\"\n",
    "print(result)\n",
    "\n",
    "length_other_input = len(other_input)\n",
    "length_result = f\"The length of your 'other_input' is {length_other_input} characters.\"\n",
    "print(length_result)\n",
    "\n",
    "additional_input = input(\"Enter an additional input: \")\n",
    "additional_result = f\"You added: {additional_input} to the Something™!\"\n",
    "print(additional_result)\n"
   ]
  },
  {
   "cell_type": "code",
   "execution_count": null,
   "metadata": {},
   "outputs": [],
   "source": []
  }
 ],
 "metadata": {
  "kernelspec": {
   "display_name": "Python 3",
   "language": "python",
   "name": "python3"
  },
  "language_info": {
   "codemirror_mode": {
    "name": "ipython",
    "version": 3
   },
   "file_extension": ".py",
   "mimetype": "text/x-python",
   "name": "python",
   "nbconvert_exporter": "python",
   "pygments_lexer": "ipython3",
   "version": "3.8.3"
  }
 },
 "nbformat": 4,
 "nbformat_minor": 4
}
